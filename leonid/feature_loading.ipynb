{
 "cells": [
  {
   "cell_type": "markdown",
   "metadata": {
    "_uuid": "c35a8a2c76ac7a23f981d315a54b7a23d5ce3ce3"
   },
   "source": [
    "# Santander Value Prediction Challenge\n",
    "   Predict the value of transactions for potential customers."
   ]
  },
  {
   "cell_type": "markdown",
   "metadata": {
    "_uuid": "16e0d03b4fbb161ec5663eb2597631f458f57c67"
   },
   "source": [
    "# Loading libraries and Dataset"
   ]
  },
  {
   "cell_type": "code",
   "execution_count": 1,
   "metadata": {
    "_uuid": "acfe132edb62ddbbb96bda1b1b0b2865242e2521"
   },
   "outputs": [],
   "source": [
    "import os\n",
    "import pandas as pd\n",
    "import numpy as np\n",
    "import matplotlib.pyplot as plt\n",
    "from sklearn.model_selection import GridSearchCV,KFold,train_test_split\n",
    "from sklearn.decomposition import PCA\n",
    "from sklearn.preprocessing import MinMaxScaler, minmax_scale\n",
    "from sklearn.metrics import mean_squared_log_error,mean_squared_error\n",
    "from catboost import CatBoostRegressor\n",
    "from sklearn.ensemble import RandomForestRegressor\n",
    "import lightgbm as lgb\n",
    "import gc\n",
    "%matplotlib inline\n",
    "from copy import deepcopy\n",
    "try:\n",
    "    import cPickle as pickle\n",
    "except:\n",
    "    import pickle\n",
    "\n"
   ]
  },
  {
   "cell_type": "code",
   "execution_count": 2,
   "metadata": {},
   "outputs": [],
   "source": [
    "def convert_col_to_proper_int(df_col):\n",
    "    col_type = df_col.dtype\n",
    "    c_min = df_col.min()\n",
    "    c_max = df_col.max()\n",
    "#     print('convert_col_to_proper_int column: ', df_col.name, 'type: ', col_type, 'c_min: ', c_min)\n",
    "    if ((str(col_type)[:3] == 'int') | (str(col_type)[:4] == 'uint')): # | (str(col_type)[:5] == 'float')\n",
    "        if c_min < 0:\n",
    "#             print('c_min: ', c_min, 'less 0')\n",
    "            if c_min >= np.iinfo(np.int8).min and c_max <= np.iinfo(np.int8).max:\n",
    "                df_col = df_col.astype(np.int8)\n",
    "            elif c_min >= np.iinfo(np.int16).min and c_max <= np.iinfo(np.int16).max:\n",
    "                df_col = df_col.astype(np.int16)\n",
    "            elif c_min >= np.iinfo(np.int32).min and c_max <= np.iinfo(np.int32).max:\n",
    "                df_col = df_col.astype(np.int32)\n",
    "            elif c_min >= np.iinfo(np.int64).min and c_max <= np.iinfo(np.int64).max:\n",
    "                df_col = df_col.astype(np.int64)\n",
    "        else:\n",
    "#             print('c_min: ', c_min, 'not less 0')\n",
    "            if c_max <= np.iinfo(np.uint8).max:\n",
    "                df_col = df_col.astype(np.uint8)\n",
    "            elif c_max <= np.iinfo(np.uint16).max:\n",
    "                df_col = df_col.astype(np.uint16)\n",
    "            elif c_max <= np.iinfo(np.uint32).max:\n",
    "                df_col = df_col.astype(np.uint32)\n",
    "            elif c_max <= np.iinfo(np.uint64).max:\n",
    "                df_col = df_col.astype(np.uint64)\n",
    "            \n",
    "    return df_col\n",
    "\n",
    "def convert_col_to_proper_float(df_col):\n",
    "    col_type = df_col.dtype\n",
    "    if str(col_type)[:5] == 'float':\n",
    "        unique_count = len(np.unique(df_col))\n",
    "        df_col_temp = df_col.astype(np.float32)\n",
    "        if len(np.unique(df_col_temp)) == unique_count:\n",
    "            df_col = df_col_temp\n",
    "            c_min = df_col.min()\n",
    "            c_max = df_col.max()\n",
    "            if c_min > np.finfo(np.float16).min and c_max < np.finfo(np.float16).max:\n",
    "                df_col_temp = df_col.astype(np.float16)\n",
    "                if len(np.unique(df_col_temp)) == unique_count:\n",
    "                    df_col = df_col_temp\n",
    "            \n",
    "    return df_col\n",
    "\n",
    "\n",
    "\n",
    "def float_to_int(df):\n",
    "    \"\"\" iterate through all float columns of a dataframe and modify the data type\n",
    "        to reduce memory usage.\n",
    "    \"\"\"\n",
    "#     print('Begin float_to_int')\n",
    "    for col in df.columns:\n",
    "        col_type = df[col].dtype\n",
    "#         print('column: ', col, 'type: ', col_type)\n",
    "        if str(col_type)[:5] == 'float':\n",
    "            if (df[col] % 1 == 0).all():\n",
    "                df[col] = convert_col_to_proper_int(df[col].astype(np.int64))\n",
    "    \n",
    "    return df\n",
    "\n",
    "def float_reduced(df):\n",
    "    \"\"\" iterate through all float columns of a dataframe and modify the data type\n",
    "        to reduce memory usage.\n",
    "    \"\"\"\n",
    "#     print('Begin float_reduced')\n",
    "    for col in df.columns:\n",
    "        col_type = df[col].dtype\n",
    "#         print('column: ', col, 'type: ', col_type)\n",
    "        if str(col_type)[:5] == 'float':\n",
    "            df[col] = convert_col_to_proper_float(df[col])\n",
    "    \n",
    "    return df\n",
    "\n",
    "def int_reduced(df):\n",
    "    \"\"\" iterate through all int columns of a dataframe and modify the data type\n",
    "        to reduce memory usage.\n",
    "    \"\"\"\n",
    "#     print('Begin float_reduced')\n",
    "    for col in df.columns:\n",
    "        df[col] = convert_col_to_proper_int(df[col])\n",
    "    \n",
    "    return df\n",
    "\n",
    "## Thanks You Guillaume Martin for the Awesome Memory Optimizer!\n",
    "## https://www.kaggle.com/gemartin/load-data-reduce-memory-usage\n",
    "def reduce_mem_usage(df):\n",
    "    \"\"\" iterate through all the columns of a dataframe and modify the data type\n",
    "        to reduce memory usage.\n",
    "    \"\"\"\n",
    "    start_mem = df.memory_usage().sum() / 1024**2\n",
    "    print('Memory usage of dataframe is {:.2f} MB'.format(start_mem))\n",
    "\n",
    "    for col in df.columns:\n",
    "#         print(col, type(df[col]), df[col].shape)\n",
    "        col_type = df[col].dtype\n",
    "\n",
    "        if ((col_type != object) & (col_type != '<M8[ns]') & (col_type.name != 'category')):#\n",
    "            c_min = df[col].min()\n",
    "            c_max = df[col].max()\n",
    "            if str(col_type)[:3] == 'int':\n",
    "                if c_min > np.iinfo(np.int8).min and c_max < np.iinfo(np.int8).max:\n",
    "                    df[col] = df[col].astype(np.int8)\n",
    "                elif c_min > np.iinfo(np.int16).min and c_max < np.iinfo(np.int16).max:\n",
    "                    df[col] = df[col].astype(np.int16)\n",
    "                elif c_min > np.iinfo(np.int32).min and c_max < np.iinfo(np.int32).max:\n",
    "                    df[col] = df[col].astype(np.int32)\n",
    "                elif c_min > np.iinfo(np.int64).min and c_max < np.iinfo(np.int64).max:\n",
    "                    df[col] = df[col].astype(np.int64)\n",
    "            else:\n",
    "                if c_min > np.finfo(np.float16).min and c_max < np.finfo(np.float16).max:\n",
    "                    df[col] = df[col].astype(np.float16)\n",
    "                elif c_min > np.finfo(np.float32).min and c_max < np.finfo(np.float32).max:\n",
    "                    df[col] = df[col].astype(np.float32)\n",
    "                else:\n",
    "                    df[col] = df[col].astype(np.float64)\n",
    "        else: df[col] = df[col].astype('category')\n",
    "\n",
    "    end_mem = df.memory_usage().sum() / 1024**2\n",
    "    print('Memory usage after optimization is: {:.2f} MB'.format(end_mem))\n",
    "    print('Decreased by {:.1f}%'.format(100 * (start_mem - end_mem) / start_mem))\n",
    "\n",
    "    return df"
   ]
  },
  {
   "cell_type": "code",
   "execution_count": 3,
   "metadata": {},
   "outputs": [],
   "source": [
    "RANDOM_STATE = 42\n",
    "np.random.seed(RANDOM_STATE)"
   ]
  },
  {
   "cell_type": "code",
   "execution_count": 4,
   "metadata": {},
   "outputs": [
    {
     "name": "stdout",
     "output_type": "stream",
     "text": [
      "loading data from pickle file ../features/santander-gp-clustering-ii.trainfeatures.pkl\n",
      "gp_clustering_ii_train: <class 'numpy.ndarray'> (4459, 276)\n",
      "loading data from pickle file ../features/santander-gp-clustering-ii.testfeatures.pkl\n",
      "gp_clustering_ii_test: <class 'numpy.ndarray'> (49342, 276)\n",
      "<class 'pandas.core.frame.DataFrame'>\n",
      "Int64Index: 53801 entries, 0 to 49341\n",
      "Columns: 276 entries, gp_clustering_ii_0 to gp_clustering_ii_275\n",
      "dtypes: float16(4), float32(270), float64(2)\n",
      "memory usage: 57.1 MB\n",
      "Wall time: 14.9 s\n"
     ]
    }
   ],
   "source": [
    "%%time\n",
    "# Loading from pickle example\n",
    "gp_clustering_ii_train_store = '../features/santander-gp-clustering-ii.trainfeatures.pkl'\n",
    "if os.path.isfile(gp_clustering_ii_train_store):\n",
    "    print(\"loading data from pickle file\", gp_clustering_ii_train_store)\n",
    "    with open(os.path.abspath(gp_clustering_ii_train_store), 'rb') as f:\n",
    "        gp_clustering_ii_train  = pickle.load(f, encoding='bytes')\n",
    "        print('gp_clustering_ii_train:', type(gp_clustering_ii_train), gp_clustering_ii_train.shape)\n",
    "\n",
    "gp_clustering_ii_test_store = '../features/santander-gp-clustering-ii.testfeatures.pkl'\n",
    "if os.path.isfile(gp_clustering_ii_test_store):\n",
    "    print(\"loading data from pickle file\", gp_clustering_ii_test_store)\n",
    "    with open(os.path.abspath(gp_clustering_ii_test_store), 'rb') as f:\n",
    "        gp_clustering_ii_test  = pickle.load(f, encoding='bytes')\n",
    "        print('gp_clustering_ii_test:', type(gp_clustering_ii_test), gp_clustering_ii_test.shape)\n",
    "\n",
    "gp_clustering_ii = int_reduced(float_reduced(float_to_int(\n",
    "    pd.concat([pd.DataFrame(gp_clustering_ii_train).add_prefix('gp_clustering_ii_'),\n",
    "               pd.DataFrame(gp_clustering_ii_test).add_prefix('gp_clustering_ii_')\n",
    "              ],axis=0))))\n",
    "del gp_clustering_ii_train, gp_clustering_ii_test\n",
    "gc.collect()\n",
    "\n",
    "gp_clustering_ii.info()\n"
   ]
  },
  {
   "cell_type": "code",
   "execution_count": 5,
   "metadata": {},
   "outputs": [
    {
     "name": "stdout",
     "output_type": "stream",
     "text": [
      "<class 'pandas.core.frame.DataFrame'>\n",
      "Int64Index: 53801 entries, 0 to 49341\n",
      "Data columns (total 24 columns):\n",
      "non_zero_count           53801 non-null uint16\n",
      "non_zero_fraction        53801 non-null float16\n",
      "non_zero_kurtosis        53801 non-null float64\n",
      "non_zero_log_kurtosis    53801 non-null float64\n",
      "non_zero_log_max         53801 non-null float64\n",
      "non_zero_log_mean        53801 non-null float64\n",
      "non_zero_log_median      53801 non-null float64\n",
      "non_zero_log_min         53801 non-null float64\n",
      "non_zero_log_q1          53801 non-null float64\n",
      "non_zero_log_q3          53801 non-null float64\n",
      "non_zero_log_skewness    53801 non-null float64\n",
      "non_zero_log_std         53801 non-null float64\n",
      "non_zero_log_sum         53801 non-null float64\n",
      "non_zero_max             53801 non-null float64\n",
      "non_zero_mean            53801 non-null float64\n",
      "non_zero_median          53801 non-null float64\n",
      "non_zero_min             53801 non-null float64\n",
      "non_zero_q1              53801 non-null float64\n",
      "non_zero_q3              53801 non-null float64\n",
      "non_zero_skewness        53801 non-null float64\n",
      "non_zero_std             53801 non-null float64\n",
      "non_zero_sum             53801 non-null float64\n",
      "unique_values            53801 non-null uint16\n",
      "zero_count               53801 non-null uint16\n",
      "dtypes: float16(1), float64(20), uint16(3)\n",
      "memory usage: 9.0 MB\n",
      "Wall time: 827 ms\n"
     ]
    }
   ],
   "source": [
    "%%time\n",
    "df_with_row_statistic = float_reduced(float_to_int(\n",
    "    pd.concat([pd.read_csv('../features/df_with_row_statistic_train.csv', na_values= 'missing').fillna(0),\n",
    "               pd.read_csv('../features/df_with_row_statistic_test.csv', na_values= 'missing').fillna(0)\n",
    "              ],axis=0)))\n",
    "df_with_row_statistic.info()"
   ]
  },
  {
   "cell_type": "code",
   "execution_count": 6,
   "metadata": {
    "scrolled": true
   },
   "outputs": [
    {
     "name": "stdout",
     "output_type": "stream",
     "text": [
      "<class 'pandas.core.frame.DataFrame'>\n",
      "Int64Index: 53801 entries, 0 to 49341\n",
      "Data columns (total 1 columns):\n",
      "kmeans_clusters    53801 non-null uint8\n",
      "dtypes: uint8(1)\n",
      "memory usage: 472.9 KB\n",
      "Wall time: 25 ms\n"
     ]
    }
   ],
   "source": [
    "%%time\n",
    "clustering_features = int_reduced(\n",
    "    pd.concat([pd.read_csv('../features/train_clustering_features.csv'),\n",
    "               pd.read_csv('../features/test_clustering_features.csv')\n",
    "              ],axis=0))\n",
    "clustering_features.info()"
   ]
  },
  {
   "cell_type": "code",
   "execution_count": 7,
   "metadata": {},
   "outputs": [
    {
     "name": "stdout",
     "output_type": "stream",
     "text": [
      "<class 'pandas.core.frame.DataFrame'>\n",
      "Int64Index: 53801 entries, 0 to 49341\n",
      "Columns: 430 entries, gauss0 to mean_tsvd\n",
      "dtypes: float64(430)\n",
      "memory usage: 176.9 MB\n",
      "Wall time: 12.1 s\n"
     ]
    }
   ],
   "source": [
    "%%time\n",
    "dim_reduction = float_reduced(float_to_int(\n",
    "    pd.concat([pd.read_csv('../features/train_dim_reduction.csv'),\n",
    "               pd.read_csv('../features/test_dim_reduction.csv')\n",
    "              ],axis=0)))\n",
    "dim_reduction.info()"
   ]
  },
  {
   "cell_type": "code",
   "execution_count": 16,
   "metadata": {},
   "outputs": [
    {
     "name": "stdout",
     "output_type": "stream",
     "text": [
      "<class 'pandas.core.frame.DataFrame'>\n",
      "Int64Index: 53801 entries, 0 to 49341\n",
      "Data columns (total 66 columns):\n",
      "manif_0     53801 non-null float32\n",
      "manif_1     53801 non-null float32\n",
      "manif_2     53801 non-null float32\n",
      "manif_3     53801 non-null float32\n",
      "manif_4     53801 non-null float32\n",
      "manif_5     53801 non-null float32\n",
      "manif_6     53801 non-null float32\n",
      "manif_7     53801 non-null float32\n",
      "manif_8     53801 non-null float32\n",
      "manif_9     53801 non-null float32\n",
      "manif_10    53801 non-null float32\n",
      "manif_11    53801 non-null float32\n",
      "manif_12    53801 non-null float32\n",
      "manif_13    53801 non-null float32\n",
      "manif_14    53801 non-null float32\n",
      "manif_15    53801 non-null float32\n",
      "manif_16    53801 non-null float32\n",
      "manif_17    53801 non-null float32\n",
      "manif_18    53801 non-null float32\n",
      "manif_19    53801 non-null float32\n",
      "manif_20    53801 non-null float32\n",
      "manif_21    53801 non-null float32\n",
      "manif_22    53801 non-null float32\n",
      "manif_23    53801 non-null float32\n",
      "manif_24    53801 non-null float32\n",
      "manif_25    53801 non-null float32\n",
      "manif_26    53801 non-null float32\n",
      "manif_27    53801 non-null float32\n",
      "manif_28    53801 non-null float32\n",
      "manif_29    53801 non-null float32\n",
      "manif_30    53801 non-null float32\n",
      "manif_31    53801 non-null float32\n",
      "manif_32    53801 non-null float32\n",
      "manif_33    53801 non-null float32\n",
      "manif_34    53801 non-null float32\n",
      "manif_35    53801 non-null float32\n",
      "manif_36    53801 non-null float32\n",
      "manif_37    53801 non-null float32\n",
      "manif_38    53801 non-null float32\n",
      "manif_39    53801 non-null float32\n",
      "manif_40    53801 non-null float32\n",
      "manif_41    53801 non-null float32\n",
      "manif_42    53801 non-null float32\n",
      "manif_43    53801 non-null float32\n",
      "manif_44    53801 non-null float32\n",
      "manif_45    53801 non-null float32\n",
      "manif_46    53801 non-null float32\n",
      "manif_47    53801 non-null float32\n",
      "manif_48    53801 non-null float32\n",
      "manif_49    53801 non-null float32\n",
      "manif_50    53801 non-null float32\n",
      "manif_51    53801 non-null float32\n",
      "manif_52    53801 non-null float32\n",
      "manif_53    53801 non-null float32\n",
      "manif_54    53801 non-null float32\n",
      "manif_55    53801 non-null float32\n",
      "manif_56    53801 non-null float32\n",
      "manif_57    53801 non-null float32\n",
      "manif_58    53801 non-null float32\n",
      "manif_59    53801 non-null float32\n",
      "manif_60    53801 non-null float32\n",
      "manif_61    53801 non-null float32\n",
      "manif_62    53801 non-null float32\n",
      "manif_63    53801 non-null float32\n",
      "manif_64    53801 non-null float32\n",
      "manif_65    53801 non-null float32\n",
      "dtypes: float32(66)\n",
      "memory usage: 14.0 MB\n",
      "Wall time: 2.51 s\n"
     ]
    }
   ],
   "source": [
    "%%time\n",
    "manif = float_reduced(float_to_int(\n",
    "    pd.concat([pd.read_csv('../features/train_manif.csv').add_prefix('manif_'),\n",
    "               pd.read_csv('../features/test_manif.csv').add_prefix('manif_')\n",
    "              ],axis=0)))\n",
    "manif.info()"
   ]
  },
  {
   "cell_type": "code",
   "execution_count": 9,
   "metadata": {},
   "outputs": [
    {
     "name": "stdout",
     "output_type": "stream",
     "text": [
      "<class 'pandas.core.frame.DataFrame'>\n",
      "Int64Index: 53801 entries, 0 to 49341\n",
      "Data columns (total 7 columns):\n",
      "max_man    53801 non-null float64\n",
      "med_man    53801 non-null float16\n",
      "min_man    53801 non-null uint8\n",
      "nzm        53801 non-null float64\n",
      "nzs        53801 non-null float64\n",
      "soz        53801 non-null uint16\n",
      "var_man    53801 non-null float64\n",
      "dtypes: float16(1), float64(4), uint16(1), uint8(1)\n",
      "memory usage: 2.3 MB\n",
      "Wall time: 182 ms\n"
     ]
    }
   ],
   "source": [
    "%%time\n",
    "meta_features = float_reduced(float_to_int(\n",
    "    pd.concat([pd.read_csv('../features/train_meta.csv'),\n",
    "               pd.read_csv('../features/test_meta.csv')\n",
    "              ],axis=0)))\n",
    "meta_features.info()"
   ]
  },
  {
   "cell_type": "code",
   "execution_count": 10,
   "metadata": {},
   "outputs": [
    {
     "name": "stdout",
     "output_type": "stream",
     "text": [
      "<class 'pandas.core.frame.DataFrame'>\n",
      "Int64Index: 53801 entries, 0 to 49341\n",
      "Columns: 700 entries, pca0 to grp49\n",
      "dtypes: float64(700)\n",
      "memory usage: 287.7 MB\n",
      "Wall time: 20.1 s\n"
     ]
    }
   ],
   "source": [
    "%%time\n",
    "space_reduction_tresh098 = float_reduced(float_to_int(\n",
    "    pd.concat([pd.read_csv('../features/train_space_reduction_tresh098.csv'),\n",
    "               pd.read_csv('../features/test_space_reduction_tresh098.csv')\n",
    "              ],axis=0)))\n",
    "space_reduction_tresh098.info()"
   ]
  },
  {
   "cell_type": "code",
   "execution_count": 11,
   "metadata": {
    "scrolled": true
   },
   "outputs": [
    {
     "name": "stdout",
     "output_type": "stream",
     "text": [
      "<class 'pandas.core.frame.DataFrame'>\n",
      "Int64Index: 53801 entries, 0 to 49341\n",
      "Data columns (total 2 columns):\n",
      "tsne0    53801 non-null float64\n",
      "tsne1    53801 non-null float64\n",
      "dtypes: float64(2)\n",
      "memory usage: 1.2 MB\n",
      "Wall time: 82 ms\n"
     ]
    }
   ],
   "source": [
    "%%time\n",
    "tsne = float_reduced(float_to_int(\n",
    "    pd.concat([pd.read_csv('../features/train_tsne.csv', header=None, names = ['tsne0', 'tsne1']),\n",
    "               pd.read_csv('../features/test_tsne.csv', header=None, names = ['tsne0', 'tsne1'])\n",
    "              ],axis=0)))\n",
    "tsne.info()"
   ]
  },
  {
   "cell_type": "code",
   "execution_count": 12,
   "metadata": {},
   "outputs": [
    {
     "name": "stdout",
     "output_type": "stream",
     "text": [
      "<class 'pandas.core.frame.DataFrame'>\n",
      "Int64Index: 53801 entries, 0 to 49341\n",
      "Columns: 4264 entries, non_zero_min to 9fc776466_is_missing\n",
      "dtypes: float16(1), float32(2117), float64(24), uint16(1), uint8(2121)\n",
      "memory usage: 553.8 MB\n",
      "Wall time: 10min 8s\n"
     ]
    }
   ],
   "source": [
    "%%time\n",
    "row_statistic_and_bin_tresh098 = int_reduced(float_reduced(float_to_int(\n",
    "    pd.concat([pd.read_csv('../features/train_with_row_statistic_and_bin_tresh098.csv'),\n",
    "               pd.read_csv('../features/test_with_row_statistic_and_bin_tresh098.csv')\n",
    "              ],axis=0))))\n",
    "row_statistic_and_bin_tresh098.info()"
   ]
  },
  {
   "cell_type": "code",
   "execution_count": 17,
   "metadata": {},
   "outputs": [
    {
     "data": {
      "text/plain": [
       "{'unique_values', 'zero_count'}"
      ]
     },
     "execution_count": 17,
     "metadata": {},
     "output_type": "execute_result"
    }
   ],
   "source": [
    "set(df_with_row_statistic.columns)-set(row_statistic_and_bin_tresh098.columns)"
   ]
  },
  {
   "cell_type": "code",
   "execution_count": 22,
   "metadata": {
    "scrolled": true
   },
   "outputs": [
    {
     "name": "stdout",
     "output_type": "stream",
     "text": [
      "<class 'pandas.core.frame.DataFrame'>\n",
      "Int64Index: 53801 entries, 0 to 49341\n",
      "Columns: 5369 entries, non_zero_min to gp_clustering_ii_275\n",
      "dtypes: float16(6), float32(2453), float64(783), uint16(4), uint8(2123)\n",
      "memory usage: 935.2 MB\n",
      "Wall time: 2.67 s\n"
     ]
    }
   ],
   "source": [
    "%%time\n",
    "new_dataset = pd.concat([row_statistic_and_bin_tresh098,\n",
    "                         df_with_row_statistic[['unique_values', 'zero_count']],\n",
    "                         tsne,\n",
    "                         space_reduction_tresh098,\n",
    "                         meta_features,\n",
    "                         manif,\n",
    "                         dim_reduction[list(set(dim_reduction.columns)-set(space_reduction_tresh098.columns))],\n",
    "                         clustering_features,\n",
    "                         gp_clustering_ii], axis=1, verify_integrity=True).fillna(0)\n",
    "new_dataset.info()"
   ]
  },
  {
   "cell_type": "code",
   "execution_count": 32,
   "metadata": {},
   "outputs": [],
   "source": [
    "orig_y = pd.read_csv('../input/train.csv', usecols=['target']).astype(np.int32)"
   ]
  },
  {
   "cell_type": "code",
   "execution_count": 33,
   "metadata": {},
   "outputs": [],
   "source": [
    "# Train and test\n",
    "train_idx = range(0, len(orig_y))\n",
    "test_idx = range(len(orig_y), len(new_dataset))"
   ]
  },
  {
   "cell_type": "code",
   "execution_count": 35,
   "metadata": {},
   "outputs": [
    {
     "name": "stdout",
     "output_type": "stream",
     "text": [
      "Saving crowded_features data...\n",
      "Saved to C:\\santander-value-prediction-challenge\\features\\crowded_features_data_store.pkl\n",
      "Wall time: 5.16 s\n"
     ]
    }
   ],
   "source": [
    "%%time\n",
    "new_dataset_data_store = '../features/crowded_features_data_store.pkl'\n",
    "print( \"Saving crowded_features data...\")\n",
    "with open(os.path.abspath(new_dataset_data_store), 'wb') as f:\n",
    "    pickle.dump((new_dataset, orig_y, train_idx, test_idx),\n",
    "                f, protocol = pickle.HIGHEST_PROTOCOL)\n",
    "    print('Saved to', os.path.abspath(new_dataset_data_store))"
   ]
  },
  {
   "cell_type": "code",
   "execution_count": null,
   "metadata": {
    "_uuid": "b6c39369be177ac1864d56b1aca5c568ab5fee6c"
   },
   "outputs": [],
   "source": []
  }
 ],
 "metadata": {
  "kernelspec": {
   "display_name": "Python 3",
   "language": "python",
   "name": "python3"
  },
  "language_info": {
   "codemirror_mode": {
    "name": "ipython",
    "version": 3
   },
   "file_extension": ".py",
   "mimetype": "text/x-python",
   "name": "python",
   "nbconvert_exporter": "python",
   "pygments_lexer": "ipython3",
   "version": "3.6.6"
  }
 },
 "nbformat": 4,
 "nbformat_minor": 1
}
